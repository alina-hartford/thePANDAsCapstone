{
 "cells": [
  {
   "cell_type": "code",
   "execution_count": 18,
   "metadata": {},
   "outputs": [],
   "source": [
    "import boto3\n",
    "from botocore.exceptions import ClientError\n",
    "import configparser\n",
    "\n",
    "config = configparser.ConfigParser()\n",
    "config.read('aws.cfg')\n",
    "\n",
    "aws_access_key = config['AWS']['aws_access_key_id']\n",
    "aws_secret_key = config['AWS']['aws_secret_access_key']\n"
   ]
  },
  {
   "cell_type": "code",
   "execution_count": 19,
   "metadata": {},
   "outputs": [],
   "source": [
    "# Create a Bedrock Runtime client in the AWS Region you want to use.\n",
    "client = boto3.client(\"bedrock-runtime\", region_name=\"us-east-1\", aws_access_key_id=aws_access_key, aws_secret_access_key=aws_secret_key)\n",
    "\n",
    "# Set the model ID, e.g., Titan Text Premier.\n",
    "model_id = \"amazon.titan-text-express-v1\""
   ]
  },
  {
   "cell_type": "code",
   "execution_count": 22,
   "metadata": {},
   "outputs": [],
   "source": [
    "import pandas as pd\n",
    "s3 = boto3.client(\n",
    "    's3',\n",
    "    aws_access_key_id=aws_access_key,\n",
    "    aws_secret_access_key=aws_secret_key\n",
    ")\n",
    "\n",
    "landmarks = s3.download_file('capstone-techcatalyst-raw', 'group1/Individual_Landmark_Sites_20240801.csv', 'Individual_Landmark_Sites_20240801.csv')\n",
    "landmark_df = pd.read_csv('/workspaces/thePANDAsCapstone/Pipeline Stages/Databricks/Individual_Landmark_Sites_20240801.csv')"
   ]
  },
  {
   "cell_type": "code",
   "execution_count": 59,
   "metadata": {},
   "outputs": [
    {
     "ename": "TypeError",
     "evalue": "sequence item 0: expected a bytes-like object, str found",
     "output_type": "error",
     "traceback": [
      "\u001b[0;31m---------------------------------------------------------------------------\u001b[0m",
      "\u001b[0;31mTypeError\u001b[0m                                 Traceback (most recent call last)",
      "Cell \u001b[0;32mIn[59], line 5\u001b[0m\n\u001b[1;32m      1\u001b[0m landmark_list \u001b[38;5;241m=\u001b[39m landmark_df[\u001b[38;5;124m'\u001b[39m\u001b[38;5;124mLPC_NAME\u001b[39m\u001b[38;5;124m'\u001b[39m]\u001b[38;5;241m.\u001b[39mto_list()\n\u001b[1;32m      3\u001b[0m length \u001b[38;5;241m=\u001b[39m \u001b[38;5;28mlen\u001b[39m(landmark_list)\n\u001b[0;32m----> 5\u001b[0m landmark_str \u001b[38;5;241m=\u001b[39m \u001b[38;5;124;43mb\u001b[39;49m\u001b[38;5;124;43m'\u001b[39;49m\u001b[38;5;124;43m, \u001b[39;49m\u001b[38;5;124;43m'\u001b[39;49m\u001b[38;5;241;43m.\u001b[39;49m\u001b[43mjoin\u001b[49m\u001b[43m(\u001b[49m\u001b[43mlandmark_list\u001b[49m\u001b[43m[\u001b[49m\u001b[38;5;241;43m0\u001b[39;49m\u001b[43m:\u001b[49m\u001b[43mlength\u001b[49m\u001b[38;5;241;43m/\u001b[39;49m\u001b[38;5;241;43m/\u001b[39;49m\u001b[38;5;241;43m2\u001b[39;49m\u001b[43m]\u001b[49m\u001b[43m)\u001b[49m\n\u001b[1;32m      8\u001b[0m query \u001b[38;5;241m=\u001b[39m \u001b[38;5;124mf\u001b[39m\u001b[38;5;124m\"\"\"\u001b[39m\u001b[38;5;124m \u001b[39m\u001b[38;5;132;01m{\u001b[39;00mlandmark_str\u001b[38;5;132;01m}\u001b[39;00m\n\u001b[1;32m      9\u001b[0m \n\u001b[1;32m     10\u001b[0m \u001b[38;5;124mFrom this list of landmarks, create a list of 5 categories of landmarks. \u001b[39m\n\u001b[1;32m     11\u001b[0m \n\u001b[1;32m     12\u001b[0m \n\u001b[1;32m     13\u001b[0m \u001b[38;5;124m\"\"\"\u001b[39m\n",
      "\u001b[0;31mTypeError\u001b[0m: sequence item 0: expected a bytes-like object, str found"
     ]
    }
   ],
   "source": [
    "landmark_list = landmark_df['LPC_NAME'].to_list()\n",
    "\n",
    "length = len(landmark_list)\n",
    "\n",
    "landmark_str = ', '.join(landmark_list[0:length//2])\n",
    "\n",
    "\n",
    "query = f\"\"\" {landmark_str}\n",
    "\n",
    "From this list of landmarks, create a list of 5 categories of landmarks. \n",
    "\n",
    "\n",
    "\"\"\"\n",
    "\n"
   ]
  },
  {
   "cell_type": "code",
   "execution_count": 57,
   "metadata": {},
   "outputs": [
    {
     "data": {
      "text/plain": [
       "\" 105 Franklin Avenue House, Decker Farmhouse, Public School 15 (Daniel D. Tompkins School), 121 Heberton Avenue House, Reverend David Moore House, 752 Delafield Avenue, Mary and David Burgher House, Staten Island Borough Hall, Nathaniel J. and Ann C. Wyeth House, 22 Pendleton Place House, 364 Van Duzer Street House, Staten Island Family Courthouse, John DeGroot House, Saint Andrew's Church, Stephen D. Barnes House, 66 Harvard Avenue House, John King Vanderbilt House, New Dorp Light, Expanded Site, 390 Van Duzer Street House, 411 Westervelt Avenue House, Horton's Row, H. H. Richardson House, August and Augusta Schoverling House, Julia Gardiner Tyler House, Saint John's Church, 29 Cottage Place House, Gustave A. Mayer House, Reformed Church on Staten Island, Sunday School Building, and Cemetery, Cornelius Cruser House, 1 Pendleton Place House, 417 Westervelt Avenue House, Horton's Row, William and Catherine Cass House, The Crimson Beech, Tysen-Neville House, 413 Westervelt Avenue House, Horton's Row, Vanderzee-Harper House, Mark W. Allen House, 415 Westervelt Avenue House, Horton's Row, Richmond County Courthouse, Garibaldi-Meucci Museum, Gillett-Tyler House, Peter Housman House, Caleb T. Ward Mansion, Stephens-Prier House, New York Public Library, Port Richmond Branch, Rutan Journeay House, Kreischerville Workers' Houses, Woodrow United Methodist Church, Ernest Flagg Estate Cottage: McCall's Demonstration House, Kreischerville Workers' Houses, Abraham Manee House, Rossville A.M.E. Zion Church Cemetery, Staten Island Savings Bank Building, George Cunningham Store, Frederick Law Olmsted House, Conference House, 565 and 569 Bloomingdale Road Cottages, Saint Patrick's Church, Theodore H. and Elizabeth DeHart House, Memorial Church of the Huguenots, Kreischerville Workers' Houses, Abraham J. Wood House, New York Public Library, Tottenville Branch, Reverend Isaac Coleman and Rebecca Gray Coleman House, Rossville A.M.E. Zion Church, John H. and Elizabeth J. Elsworth House, James L. and Lucinda Bedell House, Charles Kreischer House, New York State Supreme Court, Queens County, Long Island City Branch, Fire Engine Company 258, Hook and Ladder Company 115, New York Architectural Terra Cotta Company Building, Abraham Lent House, Benjamin T. Pike House, Lawrence Family Graveyard, Moore-Jackson Cemetery, Fire Engine Company 289, Ladder Company 138, Louis Armstrong House, Newtown High School, Edward E. Sanford House, Remsen Cemetery, Firehouse, Engine Company 305 and Hook & Ladder 151, Ralph Bunche House, Adrian and Ann Wyckoff Onderdonk House, Herman A. and Malvina Schleicher House, Poppenhusen Institute, Queens Borough Public Library, Poppenhusen Branch, Arthur and Dorothy Dalton Hammerstein House, Wildflower, Fitzgerald/Ginsberg House, Friends Meeting House, Flushing Town Hall, Flushing High School, Bowne House, Weeping Beech Tree, 35-34 Bell Boulevard, Lawrence Graveyard, Benjamin P. Allen House, Cornelius Van Wyck House, Public School 66, Daniel and Abbie B. Eldridge House, Richmond Hill Republican Club, Rufus King House, Jamaica Savings Bank, Queens General Court House, Jamaica Chamber of Commerce Building, Jamaica High School, Suffolk Title and Guarantee Company Build, Loew's Valencia Theater, La Casina, The Register, Jamaica Savings Bank, J. Kurtz & Sons Store, Prospect Cemetery, Richard Cornell Graveyard, Firehouse, Engine Company 268 and Hook & Ladder Company 137, International Mercantile Marine Company Building, Beaver Building, Bowling Green Offices Building, Hanover Bank, City Bank-Farmers Trust Company Building, United States Custom House, J. & W. Seligman & Company Building, American Bank Note Company Office Building, Fraunces Tavern, Standard Oil Building, Saint George's Church, New York City Police Headquarters, Germania Life Insurance Company Building, West End Collegiate Church and Collegiate School, Town Hall, New York Public Library, Muhlenberg Branch, Catholic Apostolic Church, Thomas and Fanny Clarke House, New York Public Library, Seward Park Branch, Church of Saint Mary-the-Virgin Complex, New York Life Insurance Company Building, Germania Bank Building, 36 Dominick Street House, 136 West 18th Street Stable, 326 West 85th Street House, 504 Canal Street House, Chamber of Commerce of the State of New York, 432 Lafayette Street Building, Astor Library, 130 West 57th Street Studio Building, Fourteenth Ward Industrial School of the Children's Aid Society (Astor Memorial Building), New York Public Library, Chatham Square Branch, 30 Jones Street House, Public School 67, New York School of Applied Design for Women, Scribner Building, United States General Post Office, 9 West 16th Street Building, All Saints' Free Church, Fire Engine Company No. 54, Hall of Records, German-American Shooting Society Clubhouse, New York Times Building, Longacre Theater, 330 East 18th Street House, Andrew Norwood House, 39 Worth Street Building, Home Life Insurance Company Building, First Houses, Shearith Israel Graveyard, Everett Building, Stewart & Company Building, Grace Chapel Hospital, 25 Park Place Building, John Street Methodist Church, 428 Lafayette Street Building, 128 West 18th Street Stable, Bank of the Metropolis, Century Assocation Building, Martin Beck Theater, New York City Marble Cemetery, Little Theater, 26 Jones Street House, Hamilton-Holly House, Globe Theater, Saint Mark's-in-the-Bowery Church, Grace Church Rectory, James F. D. and Harriet Lanier Residence, Union Building, Guardian Life Insurance Company of America Annex, 126 West 18th Street Stable, 318 West 85th Street House, Bowery Bank of New York Building, Germania Fire Insurance Company Bowery Building, Judson Hall, Keller Hotel, Ralph and Ann E. Van Wyck Mead House, Barclay-Vesey Building, 486 Greenwich Street House, Morse Building, 437 West 24th Street House, Charlie Parker Residence, Expanded Site of the Church of the Transfiguration, 94-100 Lafayette Street Building, Yale Club of New York City Building, The National Arts Club, Fleming Smith Warehouse, American Surety Company Building, Hotel Gerard, F. W. Devoe & Co. Factory, Joseph Raphael De Lamar House, Nicholas and Elizabeth Stuyvesant Fish House, 32 Dominick Street House, Colony Club, 325-333 Broadway Building, United States Realty Building, Church of the Holy Communion Complex, Metropolitan Savings Bank, Central Savings Bank, Western Union Building, R. H. Macy & Co. Store, 14th Street Annex, 457 West 24th Street House, Federal Reserve Bank of New York, David S. Brown Store, New York Marble Cemetery, Russell Sage Foundation Building and Annex, Dorilton Apartments, 2 Park Avenue Building, Belasco's Stuyvesant Theater, Long Distance Building of the American Telephone & Telegraph Company, Church Missions House, Helen Miller Gould Carriage House, Bialystoker Center and Home for the Aged, Rodin Studios, Alvin Theater, 324 West 85th Street House, Friends Meeting House, St. Louis Hotel, 90-94 Maiden Lane Building, Fire Engine Company No. 65, New York Yacht Club Building, Anshe Chesed Synagogue, Hotel Martinique, Church of the Holy Communion Rectory, 145 Eighth Avenue House, Chelsea Apartments, E. V. Haughwout Building, 311 Broadway Building, 28 Jones Street House, Royale Theater, American Fine Arts Society, Hotel Mansfield, Broadhurst Theater, A. T. Demarest & Company and Peerless Motor Car Company Buildings, American Telephone & Telegraph Company Building, Robert and Anne Dickey House, Engineers' Club Building, New York County Lawyers' Association Building, The Wilbraham, Gorham Building, Hearst Magazine Building, 319 Broadway Building, Fred F. French Building, De Vinne Press Building, 511 Grand Street House, Frederick and Lydia Prentiss House, 359 Broadway Building, New York Life Insurance Company Building, 453 West 24th Street House, 480 Greenwich Street House/502 Canal Street House, 21 West 16th Street Building, Ahrens Building, Actors Studio, 449 West 24th Street House, 326 East 18th Street House, Northern Reformed Church, Algonquin Hotel, Grolier Club, 203 Prince Street House, Red House, Municipal Building, 130-132 West 18th Street Stables Building, 320 West 85th Street House, 147 Eighth Avenue House, 337 West 85th Street House, 140 Broadway, Kent Automatic Parking Garage, Saint Paul's Chapel and Graveyard, Greenwich Savings Bank, John and Mary Sutphen House, 130 West 30th Street Building, Potter Building, 322 West 85th Street House, 326 Spring Street House, Roman Catholic Orphan Asylum, Theodore Roosevelt Birthplace, Brill Building, Empire Building, Bowery Savings Bank, Schermerhorn Building, West Street Building, 140 West 57th Street Studio Building, 451 West 24th Street House, 20 Saint Mark's Place House, Public National Bank of New York Building, American Seamen's Friend Society Sailors' Home and Institute, City Hall, Kehila Kadosha Janina Synagogue, Mansfield Theater, United States Custom House, Woolworth Building, Flatiron Building, Children's Aid Society, Elizabeth Home for Girls, New York Savings Bank, McGraw-Hill Building, 447 West 24th Street House, 361 Broadway Building, Forward Building, Majestic Theater, 275 Madison Avenue Building, Eldridge Street Synagogue, Paramount Building, Old Merchant's House, Osborne Apartments, Dennison and Lydia Wood House, New Amsterdam Theater, Sixty-Ninth Regiment Armory, Gorham Manufacturing Company Building, James Hampden Robb and Cornelia Van Rennselaer Robb House, New York Curb Exchange, incorporating the New York Curb Market Building, Pierpont Morgan Library and Annex, 5 West 16th Street Building, 335 West 85th Street House, Saint James Roman Catholic Church, Union League Club, 332 West 83rd Street House, 331 West 85th Street House, 104 Riverside Drive House, Manhattan Company Building, Kitchen, Montross & Wilcox Store, Phelps Stokes-J. P. Morgan, Jr., House, Louis H. Chalif Normal School of Dancing, Trinity Building, United States Appraisers' Store, Marble Collegiate Church, Haskins & Sells Building, Theater Masque, 281 East Broadway House, Webster Hall and Annex, Saint Peter's Roman Catholic Church, Normandy Apartments, Park Row Building, Cooper Union, Trinity Church and Graveyard, Cities Service Building, General Society of Mechanics and Tradesmen, 513 Grand Street House, 127 MacDougal Street House, B. Altman & Co. Department Store, 574 Sixth Avenue Building, 17 West 16th Street House, 23 Park Place Building, Fire Engine Company No. 7/Hook & Ladder Company No. 1, 154 West 14th Street Building, Aschenbroedel Verein Building, Lincoln Building, Trinity Chapel Complex, 105 Riverside Drive House, Hotel Wolcott, 83 Sullivan Street House, Eleventh District Municipal Court/Seventh District Magistrates' Court, Gilsey House, 506 Canal Street House, 41 Worth Street Building, Fire Engine Company No. 23, 7 West 16th Street Building, Puck Building, Forty-Sixth Street Theater, 23 West 16th Street Building, Fire Engine Company No. 31, Grand Hotel, Oliver Street Baptist Church, Association of the Bar of the City of New York, Music Box Theater, New York Public Library, Tompkins Square Branch, 116 Sullivan Street House, Lyceum Theater, New York Public Library, Astor, Lenox and Tilden Foundations, Rectory of the Church of the Transfiguration, Knickerbocker Hotel, Bennett Building, Adelaide L. T. Douglas Residence, Free Public Baths of the City of New York, East 11th Street Bath, Lord & Taylor Building, United States Rubber Company Building, Willett Street Methodist Episcopal Church, Madison Belmont Building, Saint George's Syrian Catholic Church, Bryant Park Studios, Bankers Trust Building, Down Town Association Building, 488 Greenwich Street House, 329 West 85th Street House, 434 Lafayette Street Building, 94 Greenwich Street House, Paramount Hotel, New-York Cab Company Stable, Children's Aid Society, Tompkins Square Lodging House for Boys and Industrial School, First Battery Armory, 143 Allen Street House, Plymouth Theater, 287 Broadway Building, Middleton S. and Emilie Neilson Burrill House, 190 Grand Street House, Tiffany & Co. Building, New York Evening Post Building, Manufacturers Trust Company Building, Judson Memorial Church, I. Miller Building, Liberty Tower, Cary Building, 263 Henry Street Building, Lord & Taylor Store, Union Square Savings Bank, 19 West 16th Street Building, American Tract Society Building, 131 Charles Street House, Broadway-Chambers Building, Empire State Building, 144 West 14th Street Building, Stuyvesant High School, 459 West 24th Street House, Ansonia Hotel, New York County Courthouse, Fire Engine Company No. 33, 2 White Street House, 316 West 85th Street House, 192 Grand Street House, 354 West 11th Street House, Society House of the American Society of Civil Engineers, 103 Riverside Drive House, 500 Fifth Avenue Building, Hollywood Theater, Gainsborough Studios, Philip and Maria Kleeberg House, Keuffel & Esser Company Building, Springs Mills Building, Brown Building, 131 MacDougal Street House, 333 West 85th Street House, Century Building, Swift, Seaman & Company Building, Scheffel Hall, Alvin W. and Angeline Krech House, John B. and Caroline Trevor House, Roosevelt Hospital, William J. Syms Operating Theater, Amster Yard, 160 East 92nd Street House, Baumann Brothers Furniture and Carpets Store, Alwyn Court Apartments, Park East Synagogue, 216 East 78th Street House, Ogden Codman House, University Club, Harry B. and Evelina Hollins Residence, The Windermere, Starrett-Lehigh Building, 129 MacDougal Street House, William and Clara Baumgarten House, Beaux-Arts Institute of Design, 175 West Broadway Building, Tammany Hall, Cort Theater, Eglise de Notre Dame, Erlanger Theater, 149 Mulberry Street House, 161 East 73rd Street Carriage House, General Ulysses S. Grant Tomb, Saint Jean Baptiste Church, Saks Fifth Avenue, New York Public Library, Yorkville Branch, 455 West 24th Street House, J. William and Margaretta C. Clark House, 339 Grand Street House, Zion English Lutheran Church, Manhattan House, George and Sarah Rives House, Joseph Loth & Company Silk Ribbon Mill, Metropolitan Baptist Church, Odd Fellows Hall, Bond Street Savings Bank, 313 East 58th Street House, Regis High School, Police Athletic League Building, 97 Bowery Building, 430 Lafayette Street Building, 254-260 Canal Street, West Park Presbyterian Church, Church of the Holy Trinity and Saint Christopher House, 167 East 73rd Street Carriage House, Beaumont Apartments, 32nd Police Precinct Station House, 21 West Street Building, Midtown Theater, 56 West 130th Street House, Saint Andrew's Church, Horn & Hardart Automat-Cafeteria Building, 240 Central Park South Apartments, 34 Dominick Street House, Henry Seligman Residence, 12 West 130th Street House, Saint Vincent Ferrer Priory and School, Fire Engine Company No. 47, Saint Cecilia's Church, Central Synagogue, Morris and Laurette Schinasi House, John Peirce Residence, William Lescaze House and Office, Saint Thomas Church and Parish House, 355 Central Park West House, Mother African Methodist Episcopal Zion Church, Japan Society Headquarters, First Church of Christ, Scientist, Mount Vernon Hotel Museum, 555 Edgecombe Avenue Apartments, Harlem Courthouse, Nicholas C. and Agnes Benziger House, Percy and Maud H. Pyne House, 166 East 73rd Street Carriage House, Fuller Building, 52 West 130th Street House, Fire Hook and Ladder Company No. 14, Bohemian National Hall, 130-134 East 67th Street Apartment House, New York Free Circulating Library, Bloomingdale Branch, 218 East 78th Street House, 24 West 130th Street House, 165 East 73rd Street Carriage House, 54 West 130th Street House, Gustav and Virginia Pagenstecher House, Saint Paul's Methodist Episcopal Church and Parish House, Casa Italiana, Mount Sinai Dispensary, 177-179 East 73rd Street Carriage House, High Bridge, Clarence and Anne Douglass Dillon House, Lever House, Museum of the City of New York, New York Public Library, Aguilar Branch, Jonathan W. Allen Stable, Dunbar Apartments, Lambs Club, 17 East 90th Street House, William Goadby and Florence Baker House, 254 West 102nd Street House, New York Public Library, Hamilton Grange Branch, 214 East 78th Street House, St. Mary's Protestant Episcopal Church, Parish House, and Sunday School, Gertrude Rhinelander Waldo House, Marseilles Hotel, R. Livingston and Eleanor T. Beeckman House, Reginald and Anna DeKoven House, Moses Allen and Alice Dunning Starr House, Daily News Building, Saint Nicholas Russian Orthodox Cathedral, Rectory of Saint Martin's Episcopal Church, Villard Houses, 212 East 78th Street House, 369th Regiment Armory, George S. Bowdoin Stable, Philip and Carrie Lehman House, Lewis Gouverneur and Nathalie Bailey Morris House, 354 Central Park West House, Oliver D. and Mary Pyne Filley House, St. Regis Hotel, San Remo Apartments, Payne and Helen Hay Whitney House, 58 West 130th Street House, Saint Patrick's Cathedral Complex, 40 West 130th Street House, Dakota Apartments, New York Public Library, 125th Street Branch, Congregation Beth Hamedrash Hagadol Anshe Ungarin, 146 East 89th Street House, Aeolian Building, 856 West End Avenue House, Croton Aqueduct, West 119th Street Gatehouse, 1009 Fifth Avenue House, Temple Court Building and Annex, Edward S. and Mary Stillman Harkness House, S. Jarmulowsky Bank Building, 439 West 24th Street House, 36 West 130th Street House, Free Public Baths of the City of New York, East 54th Street Bath and Gymnasium, Washington Apartments, 85 Sullivan Street House, Holland Plaza Building, 311 East 58th Street House, Metropolitan Club Building, Century Apartments, The Players, Louis N. Jaffe Art Theater (Yiddish Art Theater/Yiddish Folks Thearter), 443-445 West 24th Street House, Samuel Treadwell Skidmore House, Fire Engine Company 55, Apthorp Apartments, Bell Telephone Laboratories Complex, New York House and School of Industry, Belleclaire Hotel, Eleventh Street Methodist Episcopal Chapel, Century Association Clubhouse, American Express Company Building, Hopkins Store, 107-109 Riverside Drive House, Mutual Reserve Fund Life Association Building, Young Men's Institute Building, Guild Theater, Condict Store, Bank of New York & Trust Company Building, Edward Mooney House, Irad Hawley House, Mount Olive Fire Baptized Holiness Church, Dyckman House, Waldorf-Astoria Hotel, 26 West 130th Street House, Saint Philip's Protestant Episcopal Church, Dave Hennen and Alice Morris House, Chapel of the Intercession, Cyril and Barbara Rutherford Hatch Residence, Apollo Theater, 48 West 130th Street House, Parsonage of the Church of the Holy Trinity, Thatcher and Frances Adams House, 18 West 130th Street House, Association Residence for Respectable Aged Indigent Females, William H. and Ada S. Moore House, Mount Morris Bank Building, Emily Trevor House, New York Public Library, Schomburg Collection for Research in Black Culture, Grafton W. and Anne Minot House, 180 East 73rd Street Carriage House, 182 East 73rd Street Carriage House, William Frances Crocker Sloane House, 38 West 130th Street House, George F. Baker, Jr. House, Regina Angelorum, 163 East 73rd Street Carriage House, 22 West 130th Street House, Vincent and Helen Astor House, 10 West 130th Street House, Public School 166, Edith Andrews Logan Residence, 20 West 130th Street House, Belnord Apartments, Wadleigh High School for Girls, Hotel Theresa, Fire Engine Company No. 53, William and Helen Ziegler, Jr. House, Our Lady of Lourdes Roman Catholic Church, 161 East 78th Street House, East River Savings Bank, 8 West 130th Street House, Scribner Building, Vicarage of the Chapel of the Intercession, 45 East 66th Street Apartments, 15 West 54th Street House, 152 East 89th Street House, New York Public Library, George Bruce Branch, Majestic Apartments, New York Public Library, 115th Street Branch, Lucy Dahlgren House, 858 West End Avenue House, Joseph B. and Josephine H. Bissell House, Look Building, Rectory of the Eglise de Notre Dame, Virginia Graham Fair Vanderbilt House, Roger and Mary Philipse Morris House, Mount Morris, 34 West 130th Street House, 152 East 38th Street House, Socony-Mobil Building, Henry T. and Jessie Sloane House, Civic Club, Ernesto and Edith Fabri House, Beresford Apartments, New York Training School for Teachers and New York Model School, Beaux-Arts Apartments, Manhasset Apartments, 173 East 73rd Street Carriage House, 67 East 93rd Street House, Saint Bartholomew's Church and Community House, 312 East 53rd Street House, 30 West 130th Street House, 1261 Madison Avenue Apartments, New-York Cancer Hospital, 28 West 130th Street House, John H. and Caroline Iselin House, Graham Court Apartments, 50 West 130th Street House, 159 East 78th Street House, Fire Engine Company 39 and Ladder Company 16 Station House, Paul Rudolph Penthouse & Apartments, James B. and Nanaline Duke House, Ford Foundation Building, 16 West 130th Street House, 148 East 89th Street House, 14 West 130th Street House, Mecca Temple, Grammar School No. 9, Saint Nicholas of Myra Orthodox Church, Solomon R. Guggenheim Museum, Pike Street Synagogue, John B. and Isabella Leech House, Rockefeller Apartments, Fisk-Harkness House, Oliver Gould and Mary Brewster Jennings House, Saint Paul's German Evangelical Lutheran Church, 168 East 73rd Street Carriage House, Willard and Dorothy Whitney Straight House, Seventh Regiment Armory, Barrymore Theater, L. P. Hollander & Company Building, James J. and Josephine Goodwin Residence, 156 East 89th Street House, Seagram Building, 28th Police Precinct Station House, Frederick C. and Birdsall Otis Edey Residence, 42 West 130th Street House, Abyssinian Baptist Church and Community House, Claremont Stables, Sara Delano Roosevelt and Franklin and Eleanor Roosevelt Houses, Rogers, Peet & Company Building, Equitable Building, Saint Patrick's Old Cathedral, (Former) Public School 64, New York County National Bank, 328 East 18th Street House, James A. and Ruth M. Bailey House, Morris B. Sanders Studio & Apartment, Summit Hotel, General Electric Building, 23rd Police Precinct Station House, Young Men's Christian Association Building, 135th Street Branch, 46 West 130th Street House, 1321 Madison Avenue House, 122 East 92nd Street House, 163-165 East 78th Street, 44 West 130th Street House, 154 East 89th Street House, Bayard-Condict Building, 508 Canal Street House, 19th Police Precinct Station House, Mary Hale Cunningham House, 647 Fifth Avenue Building, Saint Martin's Episcopal Church, Eldorado Apartments, 171 East 73rd Street House, Saint Aloysius Roman Catholic Church, 157 East 78th Street House, Chanin Building, 441 West 24th Street House, United States Courthouse, 63 Nassau Street Building, Aberdeen Hotel, 56-58 Pine Street Building, William and Rosamond Clark House, One Chase Manhattan Plaza, 60 West 130th Street House, Otto and Addie Kahn House, Trinity School, Hickson W. Field Stores, Downtown Athletic Club Building, Cunard Building, National City Bank Building, Goelet Building\\n\\nFrom this list of landmarks, create a list of 5 categories of landmarks. \\n\\n\\n\""
      ]
     },
     "execution_count": 57,
     "metadata": {},
     "output_type": "execute_result"
    }
   ],
   "source": [
    "query"
   ]
  },
  {
   "cell_type": "code",
   "execution_count": 58,
   "metadata": {},
   "outputs": [
    {
     "name": "stdout",
     "output_type": "stream",
     "text": [
      "Here are 5 categories of landmarks:\n",
      "\n",
      "1. Houses\n",
      "2. Churches\n",
      "3. Theatres\n",
      "4. Museums\n",
      "5. Libraries\n"
     ]
    }
   ],
   "source": [
    "# Start a conversation with the user message.\n",
    "user_message = query\n",
    "conversation = [\n",
    "    {\n",
    "        \"role\": \"user\",\n",
    "        \"content\": [{\"text\": user_message}],\n",
    "    }\n",
    "]\n",
    "\n",
    "try:\n",
    "    # Send the message to the model, using a basic inference configuration.\n",
    "    response = client.converse(\n",
    "        modelId=\"amazon.titan-text-express-v1\",\n",
    "        messages=conversation,\n",
    "        inferenceConfig={\"maxTokens\":4096,\"stopSequences\":[\"User:\"],\"temperature\":0,\"topP\":1},\n",
    "        additionalModelRequestFields={}\n",
    "    )\n",
    "\n",
    "    # Extract and print the response text.\n",
    "    response_text = response[\"output\"][\"message\"][\"content\"][0][\"text\"]\n",
    "    print(response_text)\n",
    "\n",
    "except (ClientError, Exception) as e:\n",
    "    print(f\"ERROR: Can't invoke '{model_id}'. Reason: {e}\")\n",
    "    exit(1)"
   ]
  }
 ],
 "metadata": {
  "kernelspec": {
   "display_name": "Python 3",
   "language": "python",
   "name": "python3"
  },
  "language_info": {
   "codemirror_mode": {
    "name": "ipython",
    "version": 3
   },
   "file_extension": ".py",
   "mimetype": "text/x-python",
   "name": "python",
   "nbconvert_exporter": "python",
   "pygments_lexer": "ipython3",
   "version": "3.10.13"
  }
 },
 "nbformat": 4,
 "nbformat_minor": 2
}
